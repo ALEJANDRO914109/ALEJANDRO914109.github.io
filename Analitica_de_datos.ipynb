{
  "nbformat": 4,
  "nbformat_minor": 0,
  "metadata": {
    "colab": {
      "provenance": [],
      "include_colab_link": true
    },
    "kernelspec": {
      "name": "python3",
      "display_name": "Python 3"
    },
    "language_info": {
      "name": "python"
    }
  },
  "cells": [
    {
      "cell_type": "markdown",
      "metadata": {
        "id": "view-in-github",
        "colab_type": "text"
      },
      "source": [
        "<a href=\"https://colab.research.google.com/github/ALEJANDRO914109/ALEJANDRO914109.github.io/blob/main/Analitica_de_datos.ipynb\" target=\"_parent\"><img src=\"https://colab.research.google.com/assets/colab-badge.svg\" alt=\"Open In Colab\"/></a>"
      ]
    },
    {
      "cell_type": "markdown",
      "source": [
        "**IMPORTAR LIBRERIAS**"
      ],
      "metadata": {
        "id": "1TxqcKxEK4od"
      }
    },
    {
      "cell_type": "code",
      "execution_count": null,
      "metadata": {
        "id": "Txe8vFOxCBqT"
      },
      "outputs": [],
      "source": [
        "import pandas as pd\n",
        "import matplotlib.pyplot as plt\n",
        "import seaborn as sns\n",
        "df=pd.read_csv('/content/drive/MyDrive/Classroom/stats_people.csv')\n",
        "ef=pd.read_csv('/content/drive/MyDrive/Classroom/people.csv')\n"
      ]
    },
    {
      "cell_type": "markdown",
      "source": [
        "**DISTINGIR EL TIPO DE DATO DE CADA COLUMNA**"
      ],
      "metadata": {
        "id": "-gpTRFm6CfME"
      }
    },
    {
      "cell_type": "code",
      "source": [
        "forma=df.shape\n",
        "datos=df.dtypes\n",
        "print(datos)"
      ],
      "metadata": {
        "colab": {
          "base_uri": "https://localhost:8080/"
        },
        "id": "lA-j6msHE5iQ",
        "outputId": "310d355d-4936-4abf-d3c3-5d9b9cdcb8fc"
      },
      "execution_count": null,
      "outputs": [
        {
          "output_type": "stream",
          "name": "stdout",
          "text": [
            "id                 int64\n",
            "have_job         float64\n",
            "have_food        float64\n",
            "have_health        int64\n",
            "have_love        float64\n",
            "enjoy_animals    float64\n",
            "vegetarian         int64\n",
            "vegan              int64\n",
            "happiness          int64\n",
            "dtype: object\n"
          ]
        }
      ]
    },
    {
      "cell_type": "code",
      "source": [
        "forma1=ef.shape\n",
        "datos1=ef.dtypes\n",
        "print(datos1)"
      ],
      "metadata": {
        "colab": {
          "base_uri": "https://localhost:8080/"
        },
        "id": "3-IvbXy3QkJn",
        "outputId": "3208a0e1-77fa-407a-900e-9a54db4f8d43"
      },
      "execution_count": null,
      "outputs": [
        {
          "output_type": "stream",
          "name": "stdout",
          "text": [
            "id              int64\n",
            "first_name     object\n",
            "last_name      object\n",
            "gender         object\n",
            "birthday       object\n",
            "children      float64\n",
            "address        object\n",
            "dtype: object\n"
          ]
        }
      ]
    },
    {
      "cell_type": "markdown",
      "source": [
        "**COMPROBAR SI EXISTEN VALORES VACIOS**"
      ],
      "metadata": {
        "id": "mx0l_aPTMU9Q"
      }
    },
    {
      "cell_type": "code",
      "source": [
        "df.isnull().sum()"
      ],
      "metadata": {
        "colab": {
          "base_uri": "https://localhost:8080/"
        },
        "id": "iBDzKJUIFyWq",
        "outputId": "632665de-a909-4e4f-b326-fee5191e1fc3"
      },
      "execution_count": null,
      "outputs": [
        {
          "output_type": "execute_result",
          "data": {
            "text/plain": [
              "id                 0\n",
              "have_job         210\n",
              "have_food        104\n",
              "have_health        0\n",
              "have_love        423\n",
              "enjoy_animals     38\n",
              "vegetarian         0\n",
              "vegan              0\n",
              "happiness          0\n",
              "dtype: int64"
            ]
          },
          "metadata": {},
          "execution_count": 100
        }
      ]
    },
    {
      "cell_type": "code",
      "source": [
        "df.head(4)"
      ],
      "metadata": {
        "colab": {
          "base_uri": "https://localhost:8080/",
          "height": 175
        },
        "id": "uWPjn9zgOkZk",
        "outputId": "9ca68c90-beb4-4344-f09a-4db5ee26fd6f"
      },
      "execution_count": null,
      "outputs": [
        {
          "output_type": "execute_result",
          "data": {
            "text/plain": [
              "   id  have_job  have_food  have_health  have_love  enjoy_animals  vegetarian  \\\n",
              "0   1       1.0        1.0            1        0.0            0.0           0   \n",
              "1   2       1.0        0.0            0        0.0            1.0           0   \n",
              "2   3       NaN        1.0            1        1.0            0.0           1   \n",
              "3   4       1.0        1.0            0        NaN            1.0           0   \n",
              "\n",
              "   vegan  happiness  \n",
              "0      0          0  \n",
              "1      0          1  \n",
              "2      0          0  \n",
              "3      1          1  "
            ],
            "text/html": [
              "\n",
              "  <div id=\"df-9a73a777-c75c-4a99-bbaa-02769781bc33\">\n",
              "    <div class=\"colab-df-container\">\n",
              "      <div>\n",
              "<style scoped>\n",
              "    .dataframe tbody tr th:only-of-type {\n",
              "        vertical-align: middle;\n",
              "    }\n",
              "\n",
              "    .dataframe tbody tr th {\n",
              "        vertical-align: top;\n",
              "    }\n",
              "\n",
              "    .dataframe thead th {\n",
              "        text-align: right;\n",
              "    }\n",
              "</style>\n",
              "<table border=\"1\" class=\"dataframe\">\n",
              "  <thead>\n",
              "    <tr style=\"text-align: right;\">\n",
              "      <th></th>\n",
              "      <th>id</th>\n",
              "      <th>have_job</th>\n",
              "      <th>have_food</th>\n",
              "      <th>have_health</th>\n",
              "      <th>have_love</th>\n",
              "      <th>enjoy_animals</th>\n",
              "      <th>vegetarian</th>\n",
              "      <th>vegan</th>\n",
              "      <th>happiness</th>\n",
              "    </tr>\n",
              "  </thead>\n",
              "  <tbody>\n",
              "    <tr>\n",
              "      <th>0</th>\n",
              "      <td>1</td>\n",
              "      <td>1.0</td>\n",
              "      <td>1.0</td>\n",
              "      <td>1</td>\n",
              "      <td>0.0</td>\n",
              "      <td>0.0</td>\n",
              "      <td>0</td>\n",
              "      <td>0</td>\n",
              "      <td>0</td>\n",
              "    </tr>\n",
              "    <tr>\n",
              "      <th>1</th>\n",
              "      <td>2</td>\n",
              "      <td>1.0</td>\n",
              "      <td>0.0</td>\n",
              "      <td>0</td>\n",
              "      <td>0.0</td>\n",
              "      <td>1.0</td>\n",
              "      <td>0</td>\n",
              "      <td>0</td>\n",
              "      <td>1</td>\n",
              "    </tr>\n",
              "    <tr>\n",
              "      <th>2</th>\n",
              "      <td>3</td>\n",
              "      <td>NaN</td>\n",
              "      <td>1.0</td>\n",
              "      <td>1</td>\n",
              "      <td>1.0</td>\n",
              "      <td>0.0</td>\n",
              "      <td>1</td>\n",
              "      <td>0</td>\n",
              "      <td>0</td>\n",
              "    </tr>\n",
              "    <tr>\n",
              "      <th>3</th>\n",
              "      <td>4</td>\n",
              "      <td>1.0</td>\n",
              "      <td>1.0</td>\n",
              "      <td>0</td>\n",
              "      <td>NaN</td>\n",
              "      <td>1.0</td>\n",
              "      <td>0</td>\n",
              "      <td>1</td>\n",
              "      <td>1</td>\n",
              "    </tr>\n",
              "  </tbody>\n",
              "</table>\n",
              "</div>\n",
              "      <button class=\"colab-df-convert\" onclick=\"convertToInteractive('df-9a73a777-c75c-4a99-bbaa-02769781bc33')\"\n",
              "              title=\"Convert this dataframe to an interactive table.\"\n",
              "              style=\"display:none;\">\n",
              "        \n",
              "  <svg xmlns=\"http://www.w3.org/2000/svg\" height=\"24px\"viewBox=\"0 0 24 24\"\n",
              "       width=\"24px\">\n",
              "    <path d=\"M0 0h24v24H0V0z\" fill=\"none\"/>\n",
              "    <path d=\"M18.56 5.44l.94 2.06.94-2.06 2.06-.94-2.06-.94-.94-2.06-.94 2.06-2.06.94zm-11 1L8.5 8.5l.94-2.06 2.06-.94-2.06-.94L8.5 2.5l-.94 2.06-2.06.94zm10 10l.94 2.06.94-2.06 2.06-.94-2.06-.94-.94-2.06-.94 2.06-2.06.94z\"/><path d=\"M17.41 7.96l-1.37-1.37c-.4-.4-.92-.59-1.43-.59-.52 0-1.04.2-1.43.59L10.3 9.45l-7.72 7.72c-.78.78-.78 2.05 0 2.83L4 21.41c.39.39.9.59 1.41.59.51 0 1.02-.2 1.41-.59l7.78-7.78 2.81-2.81c.8-.78.8-2.07 0-2.86zM5.41 20L4 18.59l7.72-7.72 1.47 1.35L5.41 20z\"/>\n",
              "  </svg>\n",
              "      </button>\n",
              "      \n",
              "  <style>\n",
              "    .colab-df-container {\n",
              "      display:flex;\n",
              "      flex-wrap:wrap;\n",
              "      gap: 12px;\n",
              "    }\n",
              "\n",
              "    .colab-df-convert {\n",
              "      background-color: #E8F0FE;\n",
              "      border: none;\n",
              "      border-radius: 50%;\n",
              "      cursor: pointer;\n",
              "      display: none;\n",
              "      fill: #1967D2;\n",
              "      height: 32px;\n",
              "      padding: 0 0 0 0;\n",
              "      width: 32px;\n",
              "    }\n",
              "\n",
              "    .colab-df-convert:hover {\n",
              "      background-color: #E2EBFA;\n",
              "      box-shadow: 0px 1px 2px rgba(60, 64, 67, 0.3), 0px 1px 3px 1px rgba(60, 64, 67, 0.15);\n",
              "      fill: #174EA6;\n",
              "    }\n",
              "\n",
              "    [theme=dark] .colab-df-convert {\n",
              "      background-color: #3B4455;\n",
              "      fill: #D2E3FC;\n",
              "    }\n",
              "\n",
              "    [theme=dark] .colab-df-convert:hover {\n",
              "      background-color: #434B5C;\n",
              "      box-shadow: 0px 1px 3px 1px rgba(0, 0, 0, 0.15);\n",
              "      filter: drop-shadow(0px 1px 2px rgba(0, 0, 0, 0.3));\n",
              "      fill: #FFFFFF;\n",
              "    }\n",
              "  </style>\n",
              "\n",
              "      <script>\n",
              "        const buttonEl =\n",
              "          document.querySelector('#df-9a73a777-c75c-4a99-bbaa-02769781bc33 button.colab-df-convert');\n",
              "        buttonEl.style.display =\n",
              "          google.colab.kernel.accessAllowed ? 'block' : 'none';\n",
              "\n",
              "        async function convertToInteractive(key) {\n",
              "          const element = document.querySelector('#df-9a73a777-c75c-4a99-bbaa-02769781bc33');\n",
              "          const dataTable =\n",
              "            await google.colab.kernel.invokeFunction('convertToInteractive',\n",
              "                                                     [key], {});\n",
              "          if (!dataTable) return;\n",
              "\n",
              "          const docLinkHtml = 'Like what you see? Visit the ' +\n",
              "            '<a target=\"_blank\" href=https://colab.research.google.com/notebooks/data_table.ipynb>data table notebook</a>'\n",
              "            + ' to learn more about interactive tables.';\n",
              "          element.innerHTML = '';\n",
              "          dataTable['output_type'] = 'display_data';\n",
              "          await google.colab.output.renderOutput(dataTable, element);\n",
              "          const docLink = document.createElement('div');\n",
              "          docLink.innerHTML = docLinkHtml;\n",
              "          element.appendChild(docLink);\n",
              "        }\n",
              "      </script>\n",
              "    </div>\n",
              "  </div>\n",
              "  "
            ]
          },
          "metadata": {},
          "execution_count": 101
        }
      ]
    },
    {
      "cell_type": "code",
      "source": [
        "ef.isnull().sum()"
      ],
      "metadata": {
        "colab": {
          "base_uri": "https://localhost:8080/"
        },
        "id": "FzdYs76gQqS4",
        "outputId": "371649c8-87d3-4f5a-ef5e-eda1b596bce1"
      },
      "execution_count": null,
      "outputs": [
        {
          "output_type": "execute_result",
          "data": {
            "text/plain": [
              "id              0\n",
              "first_name      0\n",
              "last_name       0\n",
              "gender          0\n",
              "birthday      220\n",
              "children      354\n",
              "address         0\n",
              "dtype: int64"
            ]
          },
          "metadata": {},
          "execution_count": 102
        }
      ]
    },
    {
      "cell_type": "code",
      "source": [
        "ef.head(4)"
      ],
      "metadata": {
        "colab": {
          "base_uri": "https://localhost:8080/",
          "height": 175
        },
        "id": "Du5oahouRlc_",
        "outputId": "65ff3698-e96c-4466-ebea-f2e33e95e1c2"
      },
      "execution_count": null,
      "outputs": [
        {
          "output_type": "execute_result",
          "data": {
            "text/plain": [
              "   id first_name  last_name  gender    birthday  children     address\n",
              "0   1      Vanya       Wims    Male   12/4/1958       6.0   Minnesota\n",
              "1   2   Bellanca       Klos  Female    5/7/1947       NaN     Florida\n",
              "2   3     Janene     Beernt  Female  10/13/1980       4.0  California\n",
              "3   4     Lannie  Trenfield    Male   7/24/1968       NaN    Missouri"
            ],
            "text/html": [
              "\n",
              "  <div id=\"df-cf93b148-ad1e-438b-ac39-0c0a16aa2268\">\n",
              "    <div class=\"colab-df-container\">\n",
              "      <div>\n",
              "<style scoped>\n",
              "    .dataframe tbody tr th:only-of-type {\n",
              "        vertical-align: middle;\n",
              "    }\n",
              "\n",
              "    .dataframe tbody tr th {\n",
              "        vertical-align: top;\n",
              "    }\n",
              "\n",
              "    .dataframe thead th {\n",
              "        text-align: right;\n",
              "    }\n",
              "</style>\n",
              "<table border=\"1\" class=\"dataframe\">\n",
              "  <thead>\n",
              "    <tr style=\"text-align: right;\">\n",
              "      <th></th>\n",
              "      <th>id</th>\n",
              "      <th>first_name</th>\n",
              "      <th>last_name</th>\n",
              "      <th>gender</th>\n",
              "      <th>birthday</th>\n",
              "      <th>children</th>\n",
              "      <th>address</th>\n",
              "    </tr>\n",
              "  </thead>\n",
              "  <tbody>\n",
              "    <tr>\n",
              "      <th>0</th>\n",
              "      <td>1</td>\n",
              "      <td>Vanya</td>\n",
              "      <td>Wims</td>\n",
              "      <td>Male</td>\n",
              "      <td>12/4/1958</td>\n",
              "      <td>6.0</td>\n",
              "      <td>Minnesota</td>\n",
              "    </tr>\n",
              "    <tr>\n",
              "      <th>1</th>\n",
              "      <td>2</td>\n",
              "      <td>Bellanca</td>\n",
              "      <td>Klos</td>\n",
              "      <td>Female</td>\n",
              "      <td>5/7/1947</td>\n",
              "      <td>NaN</td>\n",
              "      <td>Florida</td>\n",
              "    </tr>\n",
              "    <tr>\n",
              "      <th>2</th>\n",
              "      <td>3</td>\n",
              "      <td>Janene</td>\n",
              "      <td>Beernt</td>\n",
              "      <td>Female</td>\n",
              "      <td>10/13/1980</td>\n",
              "      <td>4.0</td>\n",
              "      <td>California</td>\n",
              "    </tr>\n",
              "    <tr>\n",
              "      <th>3</th>\n",
              "      <td>4</td>\n",
              "      <td>Lannie</td>\n",
              "      <td>Trenfield</td>\n",
              "      <td>Male</td>\n",
              "      <td>7/24/1968</td>\n",
              "      <td>NaN</td>\n",
              "      <td>Missouri</td>\n",
              "    </tr>\n",
              "  </tbody>\n",
              "</table>\n",
              "</div>\n",
              "      <button class=\"colab-df-convert\" onclick=\"convertToInteractive('df-cf93b148-ad1e-438b-ac39-0c0a16aa2268')\"\n",
              "              title=\"Convert this dataframe to an interactive table.\"\n",
              "              style=\"display:none;\">\n",
              "        \n",
              "  <svg xmlns=\"http://www.w3.org/2000/svg\" height=\"24px\"viewBox=\"0 0 24 24\"\n",
              "       width=\"24px\">\n",
              "    <path d=\"M0 0h24v24H0V0z\" fill=\"none\"/>\n",
              "    <path d=\"M18.56 5.44l.94 2.06.94-2.06 2.06-.94-2.06-.94-.94-2.06-.94 2.06-2.06.94zm-11 1L8.5 8.5l.94-2.06 2.06-.94-2.06-.94L8.5 2.5l-.94 2.06-2.06.94zm10 10l.94 2.06.94-2.06 2.06-.94-2.06-.94-.94-2.06-.94 2.06-2.06.94z\"/><path d=\"M17.41 7.96l-1.37-1.37c-.4-.4-.92-.59-1.43-.59-.52 0-1.04.2-1.43.59L10.3 9.45l-7.72 7.72c-.78.78-.78 2.05 0 2.83L4 21.41c.39.39.9.59 1.41.59.51 0 1.02-.2 1.41-.59l7.78-7.78 2.81-2.81c.8-.78.8-2.07 0-2.86zM5.41 20L4 18.59l7.72-7.72 1.47 1.35L5.41 20z\"/>\n",
              "  </svg>\n",
              "      </button>\n",
              "      \n",
              "  <style>\n",
              "    .colab-df-container {\n",
              "      display:flex;\n",
              "      flex-wrap:wrap;\n",
              "      gap: 12px;\n",
              "    }\n",
              "\n",
              "    .colab-df-convert {\n",
              "      background-color: #E8F0FE;\n",
              "      border: none;\n",
              "      border-radius: 50%;\n",
              "      cursor: pointer;\n",
              "      display: none;\n",
              "      fill: #1967D2;\n",
              "      height: 32px;\n",
              "      padding: 0 0 0 0;\n",
              "      width: 32px;\n",
              "    }\n",
              "\n",
              "    .colab-df-convert:hover {\n",
              "      background-color: #E2EBFA;\n",
              "      box-shadow: 0px 1px 2px rgba(60, 64, 67, 0.3), 0px 1px 3px 1px rgba(60, 64, 67, 0.15);\n",
              "      fill: #174EA6;\n",
              "    }\n",
              "\n",
              "    [theme=dark] .colab-df-convert {\n",
              "      background-color: #3B4455;\n",
              "      fill: #D2E3FC;\n",
              "    }\n",
              "\n",
              "    [theme=dark] .colab-df-convert:hover {\n",
              "      background-color: #434B5C;\n",
              "      box-shadow: 0px 1px 3px 1px rgba(0, 0, 0, 0.15);\n",
              "      filter: drop-shadow(0px 1px 2px rgba(0, 0, 0, 0.3));\n",
              "      fill: #FFFFFF;\n",
              "    }\n",
              "  </style>\n",
              "\n",
              "      <script>\n",
              "        const buttonEl =\n",
              "          document.querySelector('#df-cf93b148-ad1e-438b-ac39-0c0a16aa2268 button.colab-df-convert');\n",
              "        buttonEl.style.display =\n",
              "          google.colab.kernel.accessAllowed ? 'block' : 'none';\n",
              "\n",
              "        async function convertToInteractive(key) {\n",
              "          const element = document.querySelector('#df-cf93b148-ad1e-438b-ac39-0c0a16aa2268');\n",
              "          const dataTable =\n",
              "            await google.colab.kernel.invokeFunction('convertToInteractive',\n",
              "                                                     [key], {});\n",
              "          if (!dataTable) return;\n",
              "\n",
              "          const docLinkHtml = 'Like what you see? Visit the ' +\n",
              "            '<a target=\"_blank\" href=https://colab.research.google.com/notebooks/data_table.ipynb>data table notebook</a>'\n",
              "            + ' to learn more about interactive tables.';\n",
              "          element.innerHTML = '';\n",
              "          dataTable['output_type'] = 'display_data';\n",
              "          await google.colab.output.renderOutput(dataTable, element);\n",
              "          const docLink = document.createElement('div');\n",
              "          docLink.innerHTML = docLinkHtml;\n",
              "          element.appendChild(docLink);\n",
              "        }\n",
              "      </script>\n",
              "    </div>\n",
              "  </div>\n",
              "  "
            ]
          },
          "metadata": {},
          "execution_count": 103
        }
      ]
    },
    {
      "cell_type": "markdown",
      "source": [
        "**REMPLAZARLOS USANDO EL VALOR PROMEDIO**"
      ],
      "metadata": {
        "id": "JeFQeK_TM2U3"
      }
    },
    {
      "cell_type": "code",
      "source": [
        "df['have_job'].fillna(0.5,inplace=True)\n",
        "df['have_food'].fillna(0.5,inplace=True)\n",
        "df['have_love'].fillna(0.5,inplace=True)\n",
        "df['enjoy_animals'].fillna(0.5,inplace=True)"
      ],
      "metadata": {
        "id": "d5XLc_KtM7Tf"
      },
      "execution_count": null,
      "outputs": []
    },
    {
      "cell_type": "code",
      "source": [
        "ef['birthday'].fillna(1/1/1995,inplace=True)\n",
        "ef['children'].fillna(3.0,inplace=True)"
      ],
      "metadata": {
        "id": "yMShiFTGQxvE"
      },
      "execution_count": null,
      "outputs": []
    },
    {
      "cell_type": "markdown",
      "source": [
        "**CORROBORAR QUE YA NO EXISTEN VALORES NULOS**"
      ],
      "metadata": {
        "id": "Bdjchl7rNwQ2"
      }
    },
    {
      "cell_type": "code",
      "source": [
        "df.isnull().sum()"
      ],
      "metadata": {
        "colab": {
          "base_uri": "https://localhost:8080/"
        },
        "id": "RTIZaJKTN0eO",
        "outputId": "0f24444c-b12e-4b31-e98d-ac657c344304"
      },
      "execution_count": null,
      "outputs": [
        {
          "output_type": "execute_result",
          "data": {
            "text/plain": [
              "id               0\n",
              "have_job         0\n",
              "have_food        0\n",
              "have_health      0\n",
              "have_love        0\n",
              "enjoy_animals    0\n",
              "vegetarian       0\n",
              "vegan            0\n",
              "happiness        0\n",
              "dtype: int64"
            ]
          },
          "metadata": {},
          "execution_count": 106
        }
      ]
    },
    {
      "cell_type": "code",
      "source": [
        "df.head(4)"
      ],
      "metadata": {
        "colab": {
          "base_uri": "https://localhost:8080/",
          "height": 175
        },
        "id": "-GtWN3PcOubs",
        "outputId": "bd7802a9-1005-4aa5-8f71-acb2b8f67409"
      },
      "execution_count": null,
      "outputs": [
        {
          "output_type": "execute_result",
          "data": {
            "text/plain": [
              "   id  have_job  have_food  have_health  have_love  enjoy_animals  vegetarian  \\\n",
              "0   1       1.0        1.0            1        0.0            0.0           0   \n",
              "1   2       1.0        0.0            0        0.0            1.0           0   \n",
              "2   3       0.5        1.0            1        1.0            0.0           1   \n",
              "3   4       1.0        1.0            0        0.5            1.0           0   \n",
              "\n",
              "   vegan  happiness  \n",
              "0      0          0  \n",
              "1      0          1  \n",
              "2      0          0  \n",
              "3      1          1  "
            ],
            "text/html": [
              "\n",
              "  <div id=\"df-fd64425d-8ed0-4e91-85e1-4817b18eb833\">\n",
              "    <div class=\"colab-df-container\">\n",
              "      <div>\n",
              "<style scoped>\n",
              "    .dataframe tbody tr th:only-of-type {\n",
              "        vertical-align: middle;\n",
              "    }\n",
              "\n",
              "    .dataframe tbody tr th {\n",
              "        vertical-align: top;\n",
              "    }\n",
              "\n",
              "    .dataframe thead th {\n",
              "        text-align: right;\n",
              "    }\n",
              "</style>\n",
              "<table border=\"1\" class=\"dataframe\">\n",
              "  <thead>\n",
              "    <tr style=\"text-align: right;\">\n",
              "      <th></th>\n",
              "      <th>id</th>\n",
              "      <th>have_job</th>\n",
              "      <th>have_food</th>\n",
              "      <th>have_health</th>\n",
              "      <th>have_love</th>\n",
              "      <th>enjoy_animals</th>\n",
              "      <th>vegetarian</th>\n",
              "      <th>vegan</th>\n",
              "      <th>happiness</th>\n",
              "    </tr>\n",
              "  </thead>\n",
              "  <tbody>\n",
              "    <tr>\n",
              "      <th>0</th>\n",
              "      <td>1</td>\n",
              "      <td>1.0</td>\n",
              "      <td>1.0</td>\n",
              "      <td>1</td>\n",
              "      <td>0.0</td>\n",
              "      <td>0.0</td>\n",
              "      <td>0</td>\n",
              "      <td>0</td>\n",
              "      <td>0</td>\n",
              "    </tr>\n",
              "    <tr>\n",
              "      <th>1</th>\n",
              "      <td>2</td>\n",
              "      <td>1.0</td>\n",
              "      <td>0.0</td>\n",
              "      <td>0</td>\n",
              "      <td>0.0</td>\n",
              "      <td>1.0</td>\n",
              "      <td>0</td>\n",
              "      <td>0</td>\n",
              "      <td>1</td>\n",
              "    </tr>\n",
              "    <tr>\n",
              "      <th>2</th>\n",
              "      <td>3</td>\n",
              "      <td>0.5</td>\n",
              "      <td>1.0</td>\n",
              "      <td>1</td>\n",
              "      <td>1.0</td>\n",
              "      <td>0.0</td>\n",
              "      <td>1</td>\n",
              "      <td>0</td>\n",
              "      <td>0</td>\n",
              "    </tr>\n",
              "    <tr>\n",
              "      <th>3</th>\n",
              "      <td>4</td>\n",
              "      <td>1.0</td>\n",
              "      <td>1.0</td>\n",
              "      <td>0</td>\n",
              "      <td>0.5</td>\n",
              "      <td>1.0</td>\n",
              "      <td>0</td>\n",
              "      <td>1</td>\n",
              "      <td>1</td>\n",
              "    </tr>\n",
              "  </tbody>\n",
              "</table>\n",
              "</div>\n",
              "      <button class=\"colab-df-convert\" onclick=\"convertToInteractive('df-fd64425d-8ed0-4e91-85e1-4817b18eb833')\"\n",
              "              title=\"Convert this dataframe to an interactive table.\"\n",
              "              style=\"display:none;\">\n",
              "        \n",
              "  <svg xmlns=\"http://www.w3.org/2000/svg\" height=\"24px\"viewBox=\"0 0 24 24\"\n",
              "       width=\"24px\">\n",
              "    <path d=\"M0 0h24v24H0V0z\" fill=\"none\"/>\n",
              "    <path d=\"M18.56 5.44l.94 2.06.94-2.06 2.06-.94-2.06-.94-.94-2.06-.94 2.06-2.06.94zm-11 1L8.5 8.5l.94-2.06 2.06-.94-2.06-.94L8.5 2.5l-.94 2.06-2.06.94zm10 10l.94 2.06.94-2.06 2.06-.94-2.06-.94-.94-2.06-.94 2.06-2.06.94z\"/><path d=\"M17.41 7.96l-1.37-1.37c-.4-.4-.92-.59-1.43-.59-.52 0-1.04.2-1.43.59L10.3 9.45l-7.72 7.72c-.78.78-.78 2.05 0 2.83L4 21.41c.39.39.9.59 1.41.59.51 0 1.02-.2 1.41-.59l7.78-7.78 2.81-2.81c.8-.78.8-2.07 0-2.86zM5.41 20L4 18.59l7.72-7.72 1.47 1.35L5.41 20z\"/>\n",
              "  </svg>\n",
              "      </button>\n",
              "      \n",
              "  <style>\n",
              "    .colab-df-container {\n",
              "      display:flex;\n",
              "      flex-wrap:wrap;\n",
              "      gap: 12px;\n",
              "    }\n",
              "\n",
              "    .colab-df-convert {\n",
              "      background-color: #E8F0FE;\n",
              "      border: none;\n",
              "      border-radius: 50%;\n",
              "      cursor: pointer;\n",
              "      display: none;\n",
              "      fill: #1967D2;\n",
              "      height: 32px;\n",
              "      padding: 0 0 0 0;\n",
              "      width: 32px;\n",
              "    }\n",
              "\n",
              "    .colab-df-convert:hover {\n",
              "      background-color: #E2EBFA;\n",
              "      box-shadow: 0px 1px 2px rgba(60, 64, 67, 0.3), 0px 1px 3px 1px rgba(60, 64, 67, 0.15);\n",
              "      fill: #174EA6;\n",
              "    }\n",
              "\n",
              "    [theme=dark] .colab-df-convert {\n",
              "      background-color: #3B4455;\n",
              "      fill: #D2E3FC;\n",
              "    }\n",
              "\n",
              "    [theme=dark] .colab-df-convert:hover {\n",
              "      background-color: #434B5C;\n",
              "      box-shadow: 0px 1px 3px 1px rgba(0, 0, 0, 0.15);\n",
              "      filter: drop-shadow(0px 1px 2px rgba(0, 0, 0, 0.3));\n",
              "      fill: #FFFFFF;\n",
              "    }\n",
              "  </style>\n",
              "\n",
              "      <script>\n",
              "        const buttonEl =\n",
              "          document.querySelector('#df-fd64425d-8ed0-4e91-85e1-4817b18eb833 button.colab-df-convert');\n",
              "        buttonEl.style.display =\n",
              "          google.colab.kernel.accessAllowed ? 'block' : 'none';\n",
              "\n",
              "        async function convertToInteractive(key) {\n",
              "          const element = document.querySelector('#df-fd64425d-8ed0-4e91-85e1-4817b18eb833');\n",
              "          const dataTable =\n",
              "            await google.colab.kernel.invokeFunction('convertToInteractive',\n",
              "                                                     [key], {});\n",
              "          if (!dataTable) return;\n",
              "\n",
              "          const docLinkHtml = 'Like what you see? Visit the ' +\n",
              "            '<a target=\"_blank\" href=https://colab.research.google.com/notebooks/data_table.ipynb>data table notebook</a>'\n",
              "            + ' to learn more about interactive tables.';\n",
              "          element.innerHTML = '';\n",
              "          dataTable['output_type'] = 'display_data';\n",
              "          await google.colab.output.renderOutput(dataTable, element);\n",
              "          const docLink = document.createElement('div');\n",
              "          docLink.innerHTML = docLinkHtml;\n",
              "          element.appendChild(docLink);\n",
              "        }\n",
              "      </script>\n",
              "    </div>\n",
              "  </div>\n",
              "  "
            ]
          },
          "metadata": {},
          "execution_count": 107
        }
      ]
    },
    {
      "cell_type": "code",
      "source": [
        "ef.isnull().sum()"
      ],
      "metadata": {
        "colab": {
          "base_uri": "https://localhost:8080/"
        },
        "id": "Mn2S3IN4Q-pJ",
        "outputId": "9c8b57f1-24b0-416e-f60e-0097fe814bfa"
      },
      "execution_count": null,
      "outputs": [
        {
          "output_type": "execute_result",
          "data": {
            "text/plain": [
              "id            0\n",
              "first_name    0\n",
              "last_name     0\n",
              "gender        0\n",
              "birthday      0\n",
              "children      0\n",
              "address       0\n",
              "dtype: int64"
            ]
          },
          "metadata": {},
          "execution_count": 108
        }
      ]
    },
    {
      "cell_type": "code",
      "source": [
        "ef.head(4)"
      ],
      "metadata": {
        "colab": {
          "base_uri": "https://localhost:8080/",
          "height": 175
        },
        "id": "iBzW3ccYRfkT",
        "outputId": "b957e9dd-45af-4998-cae5-20d4ac038d83"
      },
      "execution_count": null,
      "outputs": [
        {
          "output_type": "execute_result",
          "data": {
            "text/plain": [
              "   id first_name  last_name  gender    birthday  children     address\n",
              "0   1      Vanya       Wims    Male   12/4/1958       6.0   Minnesota\n",
              "1   2   Bellanca       Klos  Female    5/7/1947       3.0     Florida\n",
              "2   3     Janene     Beernt  Female  10/13/1980       4.0  California\n",
              "3   4     Lannie  Trenfield    Male   7/24/1968       3.0    Missouri"
            ],
            "text/html": [
              "\n",
              "  <div id=\"df-66313fde-1a9b-40df-9611-edb7ce825f8d\">\n",
              "    <div class=\"colab-df-container\">\n",
              "      <div>\n",
              "<style scoped>\n",
              "    .dataframe tbody tr th:only-of-type {\n",
              "        vertical-align: middle;\n",
              "    }\n",
              "\n",
              "    .dataframe tbody tr th {\n",
              "        vertical-align: top;\n",
              "    }\n",
              "\n",
              "    .dataframe thead th {\n",
              "        text-align: right;\n",
              "    }\n",
              "</style>\n",
              "<table border=\"1\" class=\"dataframe\">\n",
              "  <thead>\n",
              "    <tr style=\"text-align: right;\">\n",
              "      <th></th>\n",
              "      <th>id</th>\n",
              "      <th>first_name</th>\n",
              "      <th>last_name</th>\n",
              "      <th>gender</th>\n",
              "      <th>birthday</th>\n",
              "      <th>children</th>\n",
              "      <th>address</th>\n",
              "    </tr>\n",
              "  </thead>\n",
              "  <tbody>\n",
              "    <tr>\n",
              "      <th>0</th>\n",
              "      <td>1</td>\n",
              "      <td>Vanya</td>\n",
              "      <td>Wims</td>\n",
              "      <td>Male</td>\n",
              "      <td>12/4/1958</td>\n",
              "      <td>6.0</td>\n",
              "      <td>Minnesota</td>\n",
              "    </tr>\n",
              "    <tr>\n",
              "      <th>1</th>\n",
              "      <td>2</td>\n",
              "      <td>Bellanca</td>\n",
              "      <td>Klos</td>\n",
              "      <td>Female</td>\n",
              "      <td>5/7/1947</td>\n",
              "      <td>3.0</td>\n",
              "      <td>Florida</td>\n",
              "    </tr>\n",
              "    <tr>\n",
              "      <th>2</th>\n",
              "      <td>3</td>\n",
              "      <td>Janene</td>\n",
              "      <td>Beernt</td>\n",
              "      <td>Female</td>\n",
              "      <td>10/13/1980</td>\n",
              "      <td>4.0</td>\n",
              "      <td>California</td>\n",
              "    </tr>\n",
              "    <tr>\n",
              "      <th>3</th>\n",
              "      <td>4</td>\n",
              "      <td>Lannie</td>\n",
              "      <td>Trenfield</td>\n",
              "      <td>Male</td>\n",
              "      <td>7/24/1968</td>\n",
              "      <td>3.0</td>\n",
              "      <td>Missouri</td>\n",
              "    </tr>\n",
              "  </tbody>\n",
              "</table>\n",
              "</div>\n",
              "      <button class=\"colab-df-convert\" onclick=\"convertToInteractive('df-66313fde-1a9b-40df-9611-edb7ce825f8d')\"\n",
              "              title=\"Convert this dataframe to an interactive table.\"\n",
              "              style=\"display:none;\">\n",
              "        \n",
              "  <svg xmlns=\"http://www.w3.org/2000/svg\" height=\"24px\"viewBox=\"0 0 24 24\"\n",
              "       width=\"24px\">\n",
              "    <path d=\"M0 0h24v24H0V0z\" fill=\"none\"/>\n",
              "    <path d=\"M18.56 5.44l.94 2.06.94-2.06 2.06-.94-2.06-.94-.94-2.06-.94 2.06-2.06.94zm-11 1L8.5 8.5l.94-2.06 2.06-.94-2.06-.94L8.5 2.5l-.94 2.06-2.06.94zm10 10l.94 2.06.94-2.06 2.06-.94-2.06-.94-.94-2.06-.94 2.06-2.06.94z\"/><path d=\"M17.41 7.96l-1.37-1.37c-.4-.4-.92-.59-1.43-.59-.52 0-1.04.2-1.43.59L10.3 9.45l-7.72 7.72c-.78.78-.78 2.05 0 2.83L4 21.41c.39.39.9.59 1.41.59.51 0 1.02-.2 1.41-.59l7.78-7.78 2.81-2.81c.8-.78.8-2.07 0-2.86zM5.41 20L4 18.59l7.72-7.72 1.47 1.35L5.41 20z\"/>\n",
              "  </svg>\n",
              "      </button>\n",
              "      \n",
              "  <style>\n",
              "    .colab-df-container {\n",
              "      display:flex;\n",
              "      flex-wrap:wrap;\n",
              "      gap: 12px;\n",
              "    }\n",
              "\n",
              "    .colab-df-convert {\n",
              "      background-color: #E8F0FE;\n",
              "      border: none;\n",
              "      border-radius: 50%;\n",
              "      cursor: pointer;\n",
              "      display: none;\n",
              "      fill: #1967D2;\n",
              "      height: 32px;\n",
              "      padding: 0 0 0 0;\n",
              "      width: 32px;\n",
              "    }\n",
              "\n",
              "    .colab-df-convert:hover {\n",
              "      background-color: #E2EBFA;\n",
              "      box-shadow: 0px 1px 2px rgba(60, 64, 67, 0.3), 0px 1px 3px 1px rgba(60, 64, 67, 0.15);\n",
              "      fill: #174EA6;\n",
              "    }\n",
              "\n",
              "    [theme=dark] .colab-df-convert {\n",
              "      background-color: #3B4455;\n",
              "      fill: #D2E3FC;\n",
              "    }\n",
              "\n",
              "    [theme=dark] .colab-df-convert:hover {\n",
              "      background-color: #434B5C;\n",
              "      box-shadow: 0px 1px 3px 1px rgba(0, 0, 0, 0.15);\n",
              "      filter: drop-shadow(0px 1px 2px rgba(0, 0, 0, 0.3));\n",
              "      fill: #FFFFFF;\n",
              "    }\n",
              "  </style>\n",
              "\n",
              "      <script>\n",
              "        const buttonEl =\n",
              "          document.querySelector('#df-66313fde-1a9b-40df-9611-edb7ce825f8d button.colab-df-convert');\n",
              "        buttonEl.style.display =\n",
              "          google.colab.kernel.accessAllowed ? 'block' : 'none';\n",
              "\n",
              "        async function convertToInteractive(key) {\n",
              "          const element = document.querySelector('#df-66313fde-1a9b-40df-9611-edb7ce825f8d');\n",
              "          const dataTable =\n",
              "            await google.colab.kernel.invokeFunction('convertToInteractive',\n",
              "                                                     [key], {});\n",
              "          if (!dataTable) return;\n",
              "\n",
              "          const docLinkHtml = 'Like what you see? Visit the ' +\n",
              "            '<a target=\"_blank\" href=https://colab.research.google.com/notebooks/data_table.ipynb>data table notebook</a>'\n",
              "            + ' to learn more about interactive tables.';\n",
              "          element.innerHTML = '';\n",
              "          dataTable['output_type'] = 'display_data';\n",
              "          await google.colab.output.renderOutput(dataTable, element);\n",
              "          const docLink = document.createElement('div');\n",
              "          docLink.innerHTML = docLinkHtml;\n",
              "          element.appendChild(docLink);\n",
              "        }\n",
              "      </script>\n",
              "    </div>\n",
              "  </div>\n",
              "  "
            ]
          },
          "metadata": {},
          "execution_count": 109
        }
      ]
    },
    {
      "cell_type": "markdown",
      "source": [
        "**DETERMINAR LA CORRELACION**"
      ],
      "metadata": {
        "id": "g_3ffquhPD1B"
      }
    },
    {
      "cell_type": "code",
      "source": [
        "correlacion = df.corr()\n",
        "print(correlacion)"
      ],
      "metadata": {
        "colab": {
          "base_uri": "https://localhost:8080/"
        },
        "id": "JMTno2LsPQfN",
        "outputId": "ec5f324d-884a-4a6f-dc22-8a12ebc894e7"
      },
      "execution_count": null,
      "outputs": [
        {
          "output_type": "stream",
          "name": "stdout",
          "text": [
            "                     id  have_job  have_food  have_health  have_love  \\\n",
            "id             1.000000 -0.025172  -0.020352     0.052514   0.007395   \n",
            "have_job      -0.025172  1.000000   0.009088    -0.004907   0.001333   \n",
            "have_food     -0.020352  0.009088   1.000000     0.009067   0.044754   \n",
            "have_health    0.052514 -0.004907   0.009067     1.000000   0.006465   \n",
            "have_love      0.007395  0.001333   0.044754     0.006465   1.000000   \n",
            "enjoy_animals -0.019026 -0.015008   0.061569     0.016242   0.016080   \n",
            "vegetarian    -0.063640 -0.002521  -0.001708     0.021789   0.001238   \n",
            "vegan         -0.035281  0.028468  -0.007243    -0.102731   0.051140   \n",
            "happiness     -0.006738  0.017693   0.023731    -0.000252   0.030190   \n",
            "\n",
            "               enjoy_animals  vegetarian     vegan  happiness  \n",
            "id                 -0.019026   -0.063640 -0.035281  -0.006738  \n",
            "have_job           -0.015008   -0.002521  0.028468   0.017693  \n",
            "have_food           0.061569   -0.001708 -0.007243   0.023731  \n",
            "have_health         0.016242    0.021789 -0.102731  -0.000252  \n",
            "have_love           0.016080    0.001238  0.051140   0.030190  \n",
            "enjoy_animals       1.000000    0.008108 -0.010349  -0.012293  \n",
            "vegetarian          0.008108    1.000000 -0.000432   0.041839  \n",
            "vegan              -0.010349   -0.000432  1.000000  -0.010512  \n",
            "happiness          -0.012293    0.041839 -0.010512   1.000000  \n"
          ]
        }
      ]
    },
    {
      "cell_type": "markdown",
      "source": [
        "**MATRIZ DE CORRELACION**"
      ],
      "metadata": {
        "id": "_s3S8YG5PgSQ"
      }
    },
    {
      "cell_type": "code",
      "source": [
        "sns.heatmap(correlacion,annot=True)\n",
        "plt.show()"
      ],
      "metadata": {
        "colab": {
          "base_uri": "https://localhost:8080/",
          "height": 521
        },
        "id": "4P2gY5NoPjbw",
        "outputId": "85f4cd31-2dd9-4f5a-ee82-cc90f1eea2db"
      },
      "execution_count": null,
      "outputs": [
        {
          "output_type": "display_data",
          "data": {
            "text/plain": [
              "<Figure size 640x480 with 2 Axes>"
            ],
            "image/png": "[encoded data removed]"
          },
          "metadata": {}
        }
      ]
    },
    {
      "cell_type": "markdown",
      "source": [
        "**CONCATENAR 2 ARCHIVOS DE DATOS**"
      ],
      "metadata": {
        "id": "T8gSF6KRTD9E"
      }
    },
    {
      "cell_type": "code",
      "source": [
        "res=pd.merge(df, ef, on='id', how='outer')\n",
        "res.head(4)"
      ],
      "metadata": {
        "colab": {
          "base_uri": "https://localhost:8080/",
          "height": 219
        },
        "id": "xvmZXveGS4C6",
        "outputId": "63d7db2f-8fe6-4d28-e7d9-2e8fdfcf9d26"
      },
      "execution_count": null,
      "outputs": [
        {
          "output_type": "execute_result",
          "data": {
            "text/plain": [
              "   id  have_job  have_food  have_health  have_love  enjoy_animals  vegetarian  \\\n",
              "0   1       1.0        1.0            1        0.0            0.0           0   \n",
              "1   2       1.0        0.0            0        0.0            1.0           0   \n",
              "2   3       0.5        1.0            1        1.0            0.0           1   \n",
              "3   4       1.0        1.0            0        0.5            1.0           0   \n",
              "\n",
              "   vegan  happiness first_name  last_name  gender    birthday  children  \\\n",
              "0      0          0      Vanya       Wims    Male   12/4/1958       6.0   \n",
              "1      0          1   Bellanca       Klos  Female    5/7/1947       3.0   \n",
              "2      0          0     Janene     Beernt  Female  10/13/1980       4.0   \n",
              "3      1          1     Lannie  Trenfield    Male   7/24/1968       3.0   \n",
              "\n",
              "      address  \n",
              "0   Minnesota  \n",
              "1     Florida  \n",
              "2  California  \n",
              "3    Missouri  "
            ],
            "text/html": [
              "\n",
              "  <div id=\"df-ff72b8df-c81d-4a6c-859e-bf051f8aa018\">\n",
              "    <div class=\"colab-df-container\">\n",
              "      <div>\n",
              "<style scoped>\n",
              "    .dataframe tbody tr th:only-of-type {\n",
              "        vertical-align: middle;\n",
              "    }\n",
              "\n",
              "    .dataframe tbody tr th {\n",
              "        vertical-align: top;\n",
              "    }\n",
              "\n",
              "    .dataframe thead th {\n",
              "        text-align: right;\n",
              "    }\n",
              "</style>\n",
              "<table border=\"1\" class=\"dataframe\">\n",
              "  <thead>\n",
              "    <tr style=\"text-align: right;\">\n",
              "      <th></th>\n",
              "      <th>id</th>\n",
              "      <th>have_job</th>\n",
              "      <th>have_food</th>\n",
              "      <th>have_health</th>\n",
              "      <th>have_love</th>\n",
              "      <th>enjoy_animals</th>\n",
              "      <th>vegetarian</th>\n",
              "      <th>vegan</th>\n",
              "      <th>happiness</th>\n",
              "      <th>first_name</th>\n",
              "      <th>last_name</th>\n",
              "      <th>gender</th>\n",
              "      <th>birthday</th>\n",
              "      <th>children</th>\n",
              "      <th>address</th>\n",
              "    </tr>\n",
              "  </thead>\n",
              "  <tbody>\n",
              "    <tr>\n",
              "      <th>0</th>\n",
              "      <td>1</td>\n",
              "      <td>1.0</td>\n",
              "      <td>1.0</td>\n",
              "      <td>1</td>\n",
              "      <td>0.0</td>\n",
              "      <td>0.0</td>\n",
              "      <td>0</td>\n",
              "      <td>0</td>\n",
              "      <td>0</td>\n",
              "      <td>Vanya</td>\n",
              "      <td>Wims</td>\n",
              "      <td>Male</td>\n",
              "      <td>12/4/1958</td>\n",
              "      <td>6.0</td>\n",
              "      <td>Minnesota</td>\n",
              "    </tr>\n",
              "    <tr>\n",
              "      <th>1</th>\n",
              "      <td>2</td>\n",
              "      <td>1.0</td>\n",
              "      <td>0.0</td>\n",
              "      <td>0</td>\n",
              "      <td>0.0</td>\n",
              "      <td>1.0</td>\n",
              "      <td>0</td>\n",
              "      <td>0</td>\n",
              "      <td>1</td>\n",
              "      <td>Bellanca</td>\n",
              "      <td>Klos</td>\n",
              "      <td>Female</td>\n",
              "      <td>5/7/1947</td>\n",
              "      <td>3.0</td>\n",
              "      <td>Florida</td>\n",
              "    </tr>\n",
              "    <tr>\n",
              "      <th>2</th>\n",
              "      <td>3</td>\n",
              "      <td>0.5</td>\n",
              "      <td>1.0</td>\n",
              "      <td>1</td>\n",
              "      <td>1.0</td>\n",
              "      <td>0.0</td>\n",
              "      <td>1</td>\n",
              "      <td>0</td>\n",
              "      <td>0</td>\n",
              "      <td>Janene</td>\n",
              "      <td>Beernt</td>\n",
              "      <td>Female</td>\n",
              "      <td>10/13/1980</td>\n",
              "      <td>4.0</td>\n",
              "      <td>California</td>\n",
              "    </tr>\n",
              "    <tr>\n",
              "      <th>3</th>\n",
              "      <td>4</td>\n",
              "      <td>1.0</td>\n",
              "      <td>1.0</td>\n",
              "      <td>0</td>\n",
              "      <td>0.5</td>\n",
              "      <td>1.0</td>\n",
              "      <td>0</td>\n",
              "      <td>1</td>\n",
              "      <td>1</td>\n",
              "      <td>Lannie</td>\n",
              "      <td>Trenfield</td>\n",
              "      <td>Male</td>\n",
              "      <td>7/24/1968</td>\n",
              "      <td>3.0</td>\n",
              "      <td>Missouri</td>\n",
              "    </tr>\n",
              "  </tbody>\n",
              "</table>\n",
              "</div>\n",
              "      <button class=\"colab-df-convert\" onclick=\"convertToInteractive('df-ff72b8df-c81d-4a6c-859e-bf051f8aa018')\"\n",
              "              title=\"Convert this dataframe to an interactive table.\"\n",
              "              style=\"display:none;\">\n",
              "        \n",
              "  <svg xmlns=\"http://www.w3.org/2000/svg\" height=\"24px\"viewBox=\"0 0 24 24\"\n",
              "       width=\"24px\">\n",
              "    <path d=\"M0 0h24v24H0V0z\" fill=\"none\"/>\n",
              "    <path d=\"M18.56 5.44l.94 2.06.94-2.06 2.06-.94-2.06-.94-.94-2.06-.94 2.06-2.06.94zm-11 1L8.5 8.5l.94-2.06 2.06-.94-2.06-.94L8.5 2.5l-.94 2.06-2.06.94zm10 10l.94 2.06.94-2.06 2.06-.94-2.06-.94-.94-2.06-.94 2.06-2.06.94z\"/><path d=\"M17.41 7.96l-1.37-1.37c-.4-.4-.92-.59-1.43-.59-.52 0-1.04.2-1.43.59L10.3 9.45l-7.72 7.72c-.78.78-.78 2.05 0 2.83L4 21.41c.39.39.9.59 1.41.59.51 0 1.02-.2 1.41-.59l7.78-7.78 2.81-2.81c.8-.78.8-2.07 0-2.86zM5.41 20L4 18.59l7.72-7.72 1.47 1.35L5.41 20z\"/>\n",
              "  </svg>\n",
              "      </button>\n",
              "      \n",
              "  <style>\n",
              "    .colab-df-container {\n",
              "      display:flex;\n",
              "      flex-wrap:wrap;\n",
              "      gap: 12px;\n",
              "    }\n",
              "\n",
              "    .colab-df-convert {\n",
              "      background-color: #E8F0FE;\n",
              "      border: none;\n",
              "      border-radius: 50%;\n",
              "      cursor: pointer;\n",
              "      display: none;\n",
              "      fill: #1967D2;\n",
              "      height: 32px;\n",
              "      padding: 0 0 0 0;\n",
              "      width: 32px;\n",
              "    }\n",
              "\n",
              "    .colab-df-convert:hover {\n",
              "      background-color: #E2EBFA;\n",
              "      box-shadow: 0px 1px 2px rgba(60, 64, 67, 0.3), 0px 1px 3px 1px rgba(60, 64, 67, 0.15);\n",
              "      fill: #174EA6;\n",
              "    }\n",
              "\n",
              "    [theme=dark] .colab-df-convert {\n",
              "      background-color: #3B4455;\n",
              "      fill: #D2E3FC;\n",
              "    }\n",
              "\n",
              "    [theme=dark] .colab-df-convert:hover {\n",
              "      background-color: #434B5C;\n",
              "      box-shadow: 0px 1px 3px 1px rgba(0, 0, 0, 0.15);\n",
              "      filter: drop-shadow(0px 1px 2px rgba(0, 0, 0, 0.3));\n",
              "      fill: #FFFFFF;\n",
              "    }\n",
              "  </style>\n",
              "\n",
              "      <script>\n",
              "        const buttonEl =\n",
              "          document.querySelector('#df-ff72b8df-c81d-4a6c-859e-bf051f8aa018 button.colab-df-convert');\n",
              "        buttonEl.style.display =\n",
              "          google.colab.kernel.accessAllowed ? 'block' : 'none';\n",
              "\n",
              "        async function convertToInteractive(key) {\n",
              "          const element = document.querySelector('#df-ff72b8df-c81d-4a6c-859e-bf051f8aa018');\n",
              "          const dataTable =\n",
              "            await google.colab.kernel.invokeFunction('convertToInteractive',\n",
              "                                                     [key], {});\n",
              "          if (!dataTable) return;\n",
              "\n",
              "          const docLinkHtml = 'Like what you see? Visit the ' +\n",
              "            '<a target=\"_blank\" href=https://colab.research.google.com/notebooks/data_table.ipynb>data table notebook</a>'\n",
              "            + ' to learn more about interactive tables.';\n",
              "          element.innerHTML = '';\n",
              "          dataTable['output_type'] = 'display_data';\n",
              "          await google.colab.output.renderOutput(dataTable, element);\n",
              "          const docLink = document.createElement('div');\n",
              "          docLink.innerHTML = docLinkHtml;\n",
              "          element.appendChild(docLink);\n",
              "        }\n",
              "      </script>\n",
              "    </div>\n",
              "  </div>\n",
              "  "
            ]
          },
          "metadata": {},
          "execution_count": 112
        }
      ]
    },
    {
      "cell_type": "code",
      "source": [
        "res1=res._get_numeric_data()\n",
        "correlacion2 = res1.corr()\n",
        "print(correlacion2)"
      ],
      "metadata": {
        "colab": {
          "base_uri": "https://localhost:8080/"
        },
        "id": "R-IWr0RQTojb",
        "outputId": "26e49eee-55dd-48cd-d18c-6bf58a5935a0"
      },
      "execution_count": null,
      "outputs": [
        {
          "output_type": "stream",
          "name": "stdout",
          "text": [
            "                     id  have_job  have_food  have_health  have_love  \\\n",
            "id             1.000000 -0.025172  -0.020352     0.052514   0.007395   \n",
            "have_job      -0.025172  1.000000   0.009088    -0.004907   0.001333   \n",
            "have_food     -0.020352  0.009088   1.000000     0.009067   0.044754   \n",
            "have_health    0.052514 -0.004907   0.009067     1.000000   0.006465   \n",
            "have_love      0.007395  0.001333   0.044754     0.006465   1.000000   \n",
            "enjoy_animals -0.019026 -0.015008   0.061569     0.016242   0.016080   \n",
            "vegetarian    -0.063640 -0.002521  -0.001708     0.021789   0.001238   \n",
            "vegan         -0.035281  0.028468  -0.007243    -0.102731   0.051140   \n",
            "happiness     -0.006738  0.017693   0.023731    -0.000252   0.030190   \n",
            "children       0.023430  0.007376  -0.008303    -0.026563  -0.011041   \n",
            "\n",
            "               enjoy_animals  vegetarian     vegan  happiness  children  \n",
            "id                 -0.019026   -0.063640 -0.035281  -0.006738  0.023430  \n",
            "have_job           -0.015008   -0.002521  0.028468   0.017693  0.007376  \n",
            "have_food           0.061569   -0.001708 -0.007243   0.023731 -0.008303  \n",
            "have_health         0.016242    0.021789 -0.102731  -0.000252 -0.026563  \n",
            "have_love           0.016080    0.001238  0.051140   0.030190 -0.011041  \n",
            "enjoy_animals       1.000000    0.008108 -0.010349  -0.012293 -0.001474  \n",
            "vegetarian          0.008108    1.000000 -0.000432   0.041839 -0.002459  \n",
            "vegan              -0.010349   -0.000432  1.000000  -0.010512 -0.077604  \n",
            "happiness          -0.012293    0.041839 -0.010512   1.000000  0.012484  \n",
            "children           -0.001474   -0.002459 -0.077604   0.012484  1.000000  \n"
          ]
        }
      ]
    },
    {
      "cell_type": "markdown",
      "source": [
        "**MATRIZ DE CORREALACION **"
      ],
      "metadata": {
        "id": "oF2afu27ViB8"
      }
    },
    {
      "cell_type": "code",
      "source": [
        "sns.heatmap(correlacion2,annot=True)\n",
        "plt.show()"
      ],
      "metadata": {
        "colab": {
          "base_uri": "https://localhost:8080/",
          "height": 521
        },
        "id": "EgakBrFCVgPK",
        "outputId": "c970a237-ad63-4b9b-b168-e68a4ccf2aad"
      },
      "execution_count": null,
      "outputs": [
        {
          "output_type": "display_data",
          "data": {
            "text/plain": [
              "<Figure size 640x480 with 2 Axes>"
            ],
            "image/png": "[encoded data removed]"
          },
          "metadata": {}
        }
      ]
    },
    {
      "cell_type": "code",
      "source": [
        "import random\n",
        "ff=res1.assign(pets=random.randint(0,5))\n",
        "x = ff[['have_job','have_food','have_love','happiness']]\n",
        "y = ff['children']"
      ],
      "metadata": {
        "id": "msEzXwKQWpJ2"
      },
      "execution_count": null,
      "outputs": []
    },
    {
      "cell_type": "markdown",
      "source": [
        "**ALGORITMO DE REGRESION LINEAL**"
      ],
      "metadata": {
        "id": "VLZR8wDEWAK7"
      }
    },
    {
      "cell_type": "code",
      "source": [
        "from sklearn.linear_model import LinearRegression\n",
        "from sklearn.model_selection import train_test_split"
      ],
      "metadata": {
        "id": "rJ6y4RT0WHkt"
      },
      "execution_count": null,
      "outputs": []
    },
    {
      "cell_type": "code",
      "source": [
        "x_train, x_test, y_train, y_test = train_test_split(x,y,test_size=0.2,random_state=20)"
      ],
      "metadata": {
        "id": "_RwwCysqYuH2"
      },
      "execution_count": null,
      "outputs": []
    },
    {
      "cell_type": "code",
      "source": [
        "modelo= LinearRegression()\n",
        "modelo.fit(x_test, y_test)\n",
        "resultado = modelo.predict(x_test)\n",
        "print(resultado)"
      ],
      "metadata": {
        "colab": {
          "base_uri": "https://localhost:8080/"
        },
        "id": "sBRMaRayZaw4",
        "outputId": "ce4fd1e6-d624-4b76-a2aa-9db1566a1573"
      },
      "execution_count": null,
      "outputs": [
        {
          "output_type": "stream",
          "name": "stdout",
          "text": [
            "[3.10210985 3.08854876 3.08306316 2.75293167 3.0898437  3.18174621\n",
            " 2.83836106 2.65973423 2.90474375 3.08854876 2.89796321 2.75841728\n",
            " 2.92477796 3.10210985 2.98986572 3.09532931 2.67329532 3.08306316\n",
            " 3.0034268  3.07628262 3.0034268  3.08854876 2.66102917 3.08854876\n",
            " 2.92477796 2.90474375 2.64746808 3.0034268  2.99116065 3.07628262\n",
            " 2.84483418 3.0898437  2.74615113 2.99116065 2.84483418 3.09532931\n",
            " 2.66651477 2.81253383 2.76519782 3.0034268  2.81253383 2.89118267\n",
            " 2.98986572 3.08854876 2.89118267 2.74615113 2.75971221 3.08306316\n",
            " 2.77197836 3.0898437  3.0898437  3.0898437  2.56783173 2.75841728\n",
            " 2.66651477 2.92477796 2.65424862 2.91121687 2.66651477 2.75971221\n",
            " 3.08854876 3.18174621 3.18852675 3.07628262 2.93704411 2.74615113\n",
            " 2.56783173 2.67329532 2.91121687 3.0898437  2.77197836 3.0034268\n",
            " 2.84483418 2.89118267 2.81931437 2.57461227 2.74615113 3.0034268\n",
            " 2.93026356 2.99116065 2.56105118 2.98986572 3.17496566 2.85839526\n",
            " 3.01668046 3.08306316 3.18852675 3.07628262 2.75293167 2.67329532\n",
            " 3.17496566 2.97759957 2.89118267 2.67329532 3.0898437  2.84483418\n",
            " 2.57461227 2.99116065 2.97759957 2.85161472 2.74615113 2.89796321\n",
            " 2.89118267 3.0898437  2.89118267 2.92348302 2.74615113 2.74615113\n",
            " 3.10210985 3.0898437  3.023461   2.66102917 2.67329532 2.65973423\n",
            " 3.18852675 2.92477796 3.07628262 2.83836106 3.0034268  2.65973423\n",
            " 2.90474375 2.67329532 2.56105118 3.01668046 2.57461227 2.77197836\n",
            " 2.75971221 3.0898437  2.85839526 2.85161472 3.18852675 3.17496566\n",
            " 2.85839526 2.99664626 2.91121687 3.17496566 3.09532931 2.57461227\n",
            " 2.97759957 2.75971221 2.85839526 2.57461227 2.57461227 2.75841728\n",
            " 2.91121687 2.98986572 2.99116065 2.66102917 2.89796321 3.08854876\n",
            " 2.85839526 2.85839526 3.0898437  2.67329532 3.00989992 2.57461227\n",
            " 2.99664626 2.75293167 2.89118267 3.0898437  2.65973423 2.67329532\n",
            " 2.85839526 2.66651477 2.57461227 2.65973423 3.07628262 3.07628262\n",
            " 2.83158052 2.64746808 3.17496566 2.99664626 2.67329532 2.67329532\n",
            " 2.89796321 2.99116065 2.74615113 2.99116065 2.75971221 2.99116065\n",
            " 3.18852675 2.75293167 2.56105118 2.65973423 2.77197836 2.99664626\n",
            " 3.01668046 2.57461227 2.75971221 2.99664626 2.77197836 2.97759957\n",
            " 2.85839526 2.90474375 2.82609491 2.92477796 2.98986572 2.73967801\n",
            " 2.99116065 3.09532931]\n"
          ]
        }
      ]
    },
    {
      "cell_type": "code",
      "source": [
        "import numpy as np\n",
        "resultado1=np.round(resultado, decimals=0, out=None)\n",
        "print(resultado1)"
      ],
      "metadata": {
        "colab": {
          "base_uri": "https://localhost:8080/"
        },
        "id": "RhhE9tVvcSQb",
        "outputId": "a64c3a3f-80ea-40d7-e900-14fdbfe20f54"
      },
      "execution_count": null,
      "outputs": [
        {
          "output_type": "stream",
          "name": "stdout",
          "text": [
            "[3. 3. 3. 3. 3. 3. 3. 3. 3. 3. 3. 3. 3. 3. 3. 3. 3. 3. 3. 3. 3. 3. 3. 3.\n",
            " 3. 3. 3. 3. 3. 3. 3. 3. 3. 3. 3. 3. 3. 3. 3. 3. 3. 3. 3. 3. 3. 3. 3. 3.\n",
            " 3. 3. 3. 3. 3. 3. 3. 3. 3. 3. 3. 3. 3. 3. 3. 3. 3. 3. 3. 3. 3. 3. 3. 3.\n",
            " 3. 3. 3. 3. 3. 3. 3. 3. 3. 3. 3. 3. 3. 3. 3. 3. 3. 3. 3. 3. 3. 3. 3. 3.\n",
            " 3. 3. 3. 3. 3. 3. 3. 3. 3. 3. 3. 3. 3. 3. 3. 3. 3. 3. 3. 3. 3. 3. 3. 3.\n",
            " 3. 3. 3. 3. 3. 3. 3. 3. 3. 3. 3. 3. 3. 3. 3. 3. 3. 3. 3. 3. 3. 3. 3. 3.\n",
            " 3. 3. 3. 3. 3. 3. 3. 3. 3. 3. 3. 3. 3. 3. 3. 3. 3. 3. 3. 3. 3. 3. 3. 3.\n",
            " 3. 3. 3. 3. 3. 3. 3. 3. 3. 3. 3. 3. 3. 3. 3. 3. 3. 3. 3. 3. 3. 3. 3. 3.\n",
            " 3. 3. 3. 3. 3. 3. 3. 3.]\n"
          ]
        }
      ]
    },
    {
      "cell_type": "markdown",
      "source": [
        "CONCLUSION: OBSERVE QUE LA PREDICCION DE TENER HIJOS ES MUY CERCANA A LA MEDIA QUE ES 3 AL REDONDEAR LOS VALORES OBSERVE QUE LA PREDICCION DE TENER HIJOS ES DE 3"
      ],
      "metadata": {
        "id": "rGCOH9vJcW7N"
      }
    }
  ]
}